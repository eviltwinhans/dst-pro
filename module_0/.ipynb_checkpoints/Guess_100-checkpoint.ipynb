{
 "cells": [
  {
   "cell_type": "code",
   "execution_count": 16,
   "metadata": {},
   "outputs": [
    {
     "name": "stdout",
     "output_type": "stream",
     "text": [
      "Загадано число от 1 до 100, попробуйте угадать!\n",
      "\n",
      "Ваш алгоритм game_core_allrand угадывает число в среднем за следующее число попыток: 101\n",
      "\n",
      "Ваш алгоритм game_core_randcompare угадывает число в среднем за следующее число попыток: 33\n",
      "\n",
      "Ваш алгоритм game_core_halves угадывает число в среднем за следующее число попыток: 5\n"
     ]
    },
    {
     "data": {
      "text/plain": [
       "5"
      ]
     },
     "execution_count": 16,
     "metadata": {},
     "output_type": "execute_result"
    }
   ],
   "source": [
    "import numpy as np\n",
    "number = np.random.randint(1,101)    # загадываем случайное число от 1 до 100\n",
    "print (\"Загадано число от 1 до 100, попробуйте угадать!\")\n",
    "\n",
    "\n",
    "def score_game(game_core):\n",
    "    '''Запускаем игру 1000 раз, чтобы узнать, как быстро игра угадывает число'''\n",
    "    count_ls = []\n",
    "    np.random.seed(1)  # фиксируем RANDOM SEED, чтобы ваш эксперимент был воспроизводим!\n",
    "    random_array = np.random.randint(1,101, size=(1000))\n",
    "    alg = str(game_core).split()[1]\n",
    "    for number in random_array:\n",
    "        count_ls.append(game_core(number))\n",
    "    score = int(np.mean(count_ls))\n",
    "    print(f\"\\nВаш алгоритм {alg} угадывает число в среднем за следующее число попыток: {score}\")\n",
    "    return(score)\n",
    "\n",
    "\n",
    "def game_core_allrand(number):\n",
    "    '''Просто угадываем на random, никак не используя информацию о больше или меньше.\n",
    "       Функция принимает загаданное число и возвращает число попыток'''\n",
    "    count = 0\n",
    "    while True:\n",
    "        count+=1\n",
    "        predict = np.random.randint(1,101) # предполагаемое число\n",
    "        if number == predict: \n",
    "            return(count) # выход из цикла, если угадали\n",
    "\n",
    "\n",
    "def game_core_randcompare(number):\n",
    "    '''Сначала устанавливаем любое random число, а потом уменьшаем или увеличиваем его в зависимости от того,\n",
    "       больше оно или меньше нужного.\n",
    "       Функция принимает загаданное число и возвращает число попыток'''\n",
    "    count = 1\n",
    "    predict = np.random.randint(1,101)\n",
    "    while number != predict:\n",
    "        count+=1\n",
    "        if number > predict: \n",
    "            predict += 1\n",
    "        elif number < predict: \n",
    "            predict -= 1\n",
    "    return(count) # выход из цикла, если угадали\n",
    "\n",
    "\n",
    "def game_core_halves(number):\n",
    "    '''Берём не случайное число, а середину интервала, на каждой итерации уменьшая зону поиска вдвое'''\n",
    "    count = 1\n",
    "    range_start = 1\n",
    "    range_finish = 100\n",
    "    predict = 50\n",
    "    while number != predict:\n",
    "        count+=1\n",
    "        if number > predict:\n",
    "            range_start, range_finish = predict + 1, range_finish\n",
    "        elif number < predict: \n",
    "            range_start, range_finish = range_start, predict - 1\n",
    "        predict = (range_start + range_finish) // 2\n",
    "    return(count)\n",
    "\n",
    "\n",
    "# сравниваем три алгоритма поиска загаданного числа\n",
    "score_game(game_core_allrand)\n",
    "score_game(game_core_randcompare)\n",
    "score_game(game_core_halves)"
   ]
  },
  {
   "cell_type": "code",
   "execution_count": null,
   "metadata": {},
   "outputs": [],
   "source": []
  }
 ],
 "metadata": {
  "kernelspec": {
   "display_name": "Python 3",
   "language": "python",
   "name": "python3"
  },
  "language_info": {
   "codemirror_mode": {
    "name": "ipython",
    "version": 3
   },
   "file_extension": ".py",
   "mimetype": "text/x-python",
   "name": "python",
   "nbconvert_exporter": "python",
   "pygments_lexer": "ipython3",
   "version": "3.8.3"
  }
 },
 "nbformat": 4,
 "nbformat_minor": 4
}
