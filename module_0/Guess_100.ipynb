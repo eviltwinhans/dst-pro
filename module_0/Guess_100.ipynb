{
 "cells": [
  {
   "cell_type": "code",
   "execution_count": 8,
   "metadata": {},
   "outputs": [
    {
     "name": "stdout",
     "output_type": "stream",
     "text": [
      "Загадано число от 1 до 100, попробуйте угадать!\n",
      "\n",
      "Ваш алгоритм game_core_allrand угадывает число в среднем\n",
      "за следующее число попыток: 101\n",
      "\n",
      "Ваш алгоритм game_core_randcompare угадывает число в среднем\n",
      "за следующее число попыток: 33\n",
      "\n",
      "Ваш алгоритм game_core_halves угадывает число в среднем\n",
      "за следующее число попыток: 5\n"
     ]
    },
    {
     "data": {
      "text/plain": [
       "5"
      ]
     },
     "execution_count": 8,
     "metadata": {},
     "output_type": "execute_result"
    }
   ],
   "source": [
    "import numpy as np\n",
    "number = np.random.randint(1,101)    # Загадываем случайное число от 1 до 100\n",
    "print (\"Загадано число от 1 до 100, попробуйте угадать!\")\n",
    "#_____________________________________________________________________72_____79\n",
    "\n",
    "def score_game(game_core):\n",
    "    '''Запускаем игру 1000 раз, чтобы узнать,\n",
    "    \n",
    "    как быстро в среднем игра угадывает число\n",
    "    \n",
    "    '''\n",
    "    count_ls = []\n",
    "    np.random.seed(1)  # Фиксируем SEED, чтобы эксперимент был воспроизводим\n",
    "    random_array = np.random.randint(1, 101, size=(1000))\n",
    "\n",
    "    for number in random_array:\n",
    "        count_ls.append(game_core(number))\n",
    "    score = int(np.mean(count_ls))\n",
    "    algorithm = str(game_core).split()[1]  # Вычленяем название алгоритма\n",
    "    \n",
    "    print(\"\\nВаш алгоритм {} угадывает число в среднем\".format(algorithm))\n",
    "    print(\"за следующее число попыток: {}\".format(score))\n",
    "    return(score)\n",
    "\n",
    "\n",
    "def game_core_allrand(number):\n",
    "    '''Просто угадываем на random,\n",
    "    \n",
    "    никак не используя информацию о больше или меньше.\n",
    "    \n",
    "    Функция принимает загаданное число и возвращает число попыток.\n",
    "    \n",
    "    '''\n",
    "    count = 0\n",
    "    \n",
    "    while True:\n",
    "        count += 1\n",
    "        predict = np.random.randint(1, 101)  # Угадываем предполагаемое число\n",
    "        if number == predict: \n",
    "            return(count)  # Выходим из цикла, если угадали\n",
    "\n",
    "\n",
    "def game_core_randcompare(number):\n",
    "    '''Сначала устанавливаем любое random число,\n",
    "    \n",
    "    а потом уменьшаем или увеличиваем его в зависимости от того,\n",
    "    \n",
    "    больше оно или меньше нужного.\n",
    "    \n",
    "    Функция принимает загаданное число и возвращает число попыток.\n",
    "    \n",
    "    '''\n",
    "    count = 1\n",
    "    predict = np.random.randint(1, 101)\n",
    "    \n",
    "    while number != predict:  # Выход из цикла происходит, когда число угадано\n",
    "        count += 1\n",
    "        if number > predict: \n",
    "            predict += 1\n",
    "        elif number < predict: \n",
    "            predict -= 1\n",
    "    \n",
    "    return(count)\n",
    "\n",
    "\n",
    "def game_core_halves(number):\n",
    "    '''Берём не случайное число, а середину интервала,\n",
    "       \n",
    "    тем самым на каждой итерации уменьшая зону поиска вдвое.\n",
    "       \n",
    "    '''\n",
    "    count = 1\n",
    "    range_start = 1\n",
    "    range_finish = 100\n",
    "    predict = 50  # Начинаем перебор с середины изначального отрезка\n",
    "    \n",
    "    while number != predict:\n",
    "        count += 1\n",
    "        if number > predict:  # Правый полуотрезок должен стать новым отрезком\n",
    "            range_start, range_finish = predict + 1, range_finish\n",
    "        elif number < predict:  # Левый полуотрезок должен стать новым отрезком\n",
    "            range_start, range_finish = range_start, predict - 1\n",
    "        predict = (range_start + range_finish) // 2\n",
    "    \n",
    "    return(count)\n",
    "\n",
    "\n",
    "# Сравниваем три алгоритма поиска загаданного числа\n",
    "score_game(game_core_allrand)\n",
    "score_game(game_core_randcompare)\n",
    "score_game(game_core_halves)"
   ]
  },
  {
   "cell_type": "code",
   "execution_count": null,
   "metadata": {},
   "outputs": [],
   "source": []
  }
 ],
 "metadata": {
  "kernelspec": {
   "display_name": "Python 3",
   "language": "python",
   "name": "python3"
  },
  "language_info": {
   "codemirror_mode": {
    "name": "ipython",
    "version": 3
   },
   "file_extension": ".py",
   "mimetype": "text/x-python",
   "name": "python",
   "nbconvert_exporter": "python",
   "pygments_lexer": "ipython3",
   "version": "3.8.3"
  }
 },
 "nbformat": 4,
 "nbformat_minor": 4
}
