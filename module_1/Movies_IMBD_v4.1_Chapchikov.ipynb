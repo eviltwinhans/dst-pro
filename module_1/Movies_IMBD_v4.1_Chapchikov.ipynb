{
 "cells": [
  {
   "cell_type": "code",
   "execution_count": 1,
   "metadata": {
    "_cell_guid": "b1076dfc-b9ad-4769-8c92-a6c4dae69d19",
    "_uuid": "8f2839f25d086af736a60e9eeb907d3b93b6e0e5",
    "colab": {},
    "colab_type": "code",
    "id": "U2D2gTdJVp90"
   },
   "outputs": [],
   "source": [
    "import numpy as np\n",
    "import pandas as pd\n",
    "from collections import Counter\n",
    "from itertools import combinations"
   ]
  },
  {
   "cell_type": "code",
   "execution_count": 2,
   "metadata": {
    "_cell_guid": "79c7e3d0-c299-4dcb-8224-4455121ee9b0",
    "_uuid": "d629ff2d2480ee46fbb7e2d37f6b5fab8052498a",
    "colab": {},
    "colab_type": "code",
    "id": "oyGfxL3eVp9-"
   },
   "outputs": [
    {
     "data": {
      "text/html": [
       "<div>\n",
       "<style scoped>\n",
       "    .dataframe tbody tr th:only-of-type {\n",
       "        vertical-align: middle;\n",
       "    }\n",
       "\n",
       "    .dataframe tbody tr th {\n",
       "        vertical-align: top;\n",
       "    }\n",
       "\n",
       "    .dataframe thead th {\n",
       "        text-align: right;\n",
       "    }\n",
       "</style>\n",
       "<table border=\"1\" class=\"dataframe\">\n",
       "  <thead>\n",
       "    <tr style=\"text-align: right;\">\n",
       "      <th></th>\n",
       "      <th>imdb_id</th>\n",
       "      <th>budget</th>\n",
       "      <th>revenue</th>\n",
       "      <th>original_title</th>\n",
       "      <th>cast</th>\n",
       "      <th>director</th>\n",
       "      <th>tagline</th>\n",
       "      <th>overview</th>\n",
       "      <th>runtime</th>\n",
       "      <th>genres</th>\n",
       "      <th>production_companies</th>\n",
       "      <th>release_date</th>\n",
       "      <th>vote_average</th>\n",
       "      <th>release_year</th>\n",
       "    </tr>\n",
       "  </thead>\n",
       "  <tbody>\n",
       "    <tr>\n",
       "      <th>359</th>\n",
       "      <td>tt0458525</td>\n",
       "      <td>150000000</td>\n",
       "      <td>341131793</td>\n",
       "      <td>X-Men Origins: Wolverine</td>\n",
       "      <td>Hugh Jackman|Liev Schreiber|Danny Huston|Lynn ...</td>\n",
       "      <td>Gavin Hood</td>\n",
       "      <td>Witness the Origin.</td>\n",
       "      <td>After seeking to live a normal life, Logan set...</td>\n",
       "      <td>107</td>\n",
       "      <td>Adventure|Action|Thriller|Science Fiction</td>\n",
       "      <td>Ingenious Film Partners|Twentieth Century Fox ...</td>\n",
       "      <td>4/28/2009</td>\n",
       "      <td>6.2</td>\n",
       "      <td>2009</td>\n",
       "    </tr>\n",
       "    <tr>\n",
       "      <th>11</th>\n",
       "      <td>tt1617661</td>\n",
       "      <td>176000003</td>\n",
       "      <td>183987723</td>\n",
       "      <td>Jupiter Ascending</td>\n",
       "      <td>Mila Kunis|Channing Tatum|Sean Bean|Eddie Redm...</td>\n",
       "      <td>Lana Wachowski|Lilly Wachowski</td>\n",
       "      <td>Expand your universe.</td>\n",
       "      <td>In a universe where human genetic material is ...</td>\n",
       "      <td>124</td>\n",
       "      <td>Science Fiction|Fantasy|Action|Adventure</td>\n",
       "      <td>Village Roadshow Pictures|Dune Entertainment|A...</td>\n",
       "      <td>2/4/2015</td>\n",
       "      <td>5.2</td>\n",
       "      <td>2015</td>\n",
       "    </tr>\n",
       "    <tr>\n",
       "      <th>1303</th>\n",
       "      <td>tt1869716</td>\n",
       "      <td>6500000</td>\n",
       "      <td>2401510</td>\n",
       "      <td>The East</td>\n",
       "      <td>Brit Marling|Alexander SkarsgÃ¥rd|Ellen Page|T...</td>\n",
       "      <td>Zal Batmanglij</td>\n",
       "      <td>Spy on us, we'll spy on you.</td>\n",
       "      <td>An operative for an elite private intelligence...</td>\n",
       "      <td>116</td>\n",
       "      <td>Drama|Thriller</td>\n",
       "      <td>Scott Free Productions</td>\n",
       "      <td>5/31/2013</td>\n",
       "      <td>6.3</td>\n",
       "      <td>2013</td>\n",
       "    </tr>\n",
       "    <tr>\n",
       "      <th>363</th>\n",
       "      <td>tt1232783</td>\n",
       "      <td>12500000</td>\n",
       "      <td>27206120</td>\n",
       "      <td>Sorority Row</td>\n",
       "      <td>Rumer Willis|Briana Evigan|Jamie Chung|Leah Pi...</td>\n",
       "      <td>Stewart Hendler</td>\n",
       "      <td>The Sisters of Theta Pi Are Dying To Keep a Se...</td>\n",
       "      <td>When five sorority girls inadvertently cause t...</td>\n",
       "      <td>101</td>\n",
       "      <td>Horror|Mystery|Thriller</td>\n",
       "      <td>Summit Entertainment|Karz Entertainment</td>\n",
       "      <td>9/9/2009</td>\n",
       "      <td>5.3</td>\n",
       "      <td>2009</td>\n",
       "    </tr>\n",
       "    <tr>\n",
       "      <th>1575</th>\n",
       "      <td>tt0298148</td>\n",
       "      <td>150000000</td>\n",
       "      <td>919838758</td>\n",
       "      <td>Shrek 2</td>\n",
       "      <td>Mike Myers|Eddie Murphy|Cameron Diaz|Julie And...</td>\n",
       "      <td>Andrew Adamson|Kelly Asbury|Conrad Vernon</td>\n",
       "      <td>Once upon another time...</td>\n",
       "      <td>Shrek, Fiona and Donkey set off to Far, Far Aw...</td>\n",
       "      <td>93</td>\n",
       "      <td>Adventure|Animation|Comedy|Family|Fantasy</td>\n",
       "      <td>DreamWorks SKG|Pacific Data Images (PDI)|Dream...</td>\n",
       "      <td>5/19/2004</td>\n",
       "      <td>6.5</td>\n",
       "      <td>2004</td>\n",
       "    </tr>\n",
       "  </tbody>\n",
       "</table>\n",
       "</div>"
      ],
      "text/plain": [
       "        imdb_id     budget    revenue            original_title  \\\n",
       "359   tt0458525  150000000  341131793  X-Men Origins: Wolverine   \n",
       "11    tt1617661  176000003  183987723         Jupiter Ascending   \n",
       "1303  tt1869716    6500000    2401510                  The East   \n",
       "363   tt1232783   12500000   27206120              Sorority Row   \n",
       "1575  tt0298148  150000000  919838758                   Shrek 2   \n",
       "\n",
       "                                                   cast  \\\n",
       "359   Hugh Jackman|Liev Schreiber|Danny Huston|Lynn ...   \n",
       "11    Mila Kunis|Channing Tatum|Sean Bean|Eddie Redm...   \n",
       "1303  Brit Marling|Alexander SkarsgÃ¥rd|Ellen Page|T...   \n",
       "363   Rumer Willis|Briana Evigan|Jamie Chung|Leah Pi...   \n",
       "1575  Mike Myers|Eddie Murphy|Cameron Diaz|Julie And...   \n",
       "\n",
       "                                       director  \\\n",
       "359                                  Gavin Hood   \n",
       "11               Lana Wachowski|Lilly Wachowski   \n",
       "1303                             Zal Batmanglij   \n",
       "363                             Stewart Hendler   \n",
       "1575  Andrew Adamson|Kelly Asbury|Conrad Vernon   \n",
       "\n",
       "                                                tagline  \\\n",
       "359                                 Witness the Origin.   \n",
       "11                                Expand your universe.   \n",
       "1303                       Spy on us, we'll spy on you.   \n",
       "363   The Sisters of Theta Pi Are Dying To Keep a Se...   \n",
       "1575                          Once upon another time...   \n",
       "\n",
       "                                               overview  runtime  \\\n",
       "359   After seeking to live a normal life, Logan set...      107   \n",
       "11    In a universe where human genetic material is ...      124   \n",
       "1303  An operative for an elite private intelligence...      116   \n",
       "363   When five sorority girls inadvertently cause t...      101   \n",
       "1575  Shrek, Fiona and Donkey set off to Far, Far Aw...       93   \n",
       "\n",
       "                                         genres  \\\n",
       "359   Adventure|Action|Thriller|Science Fiction   \n",
       "11     Science Fiction|Fantasy|Action|Adventure   \n",
       "1303                             Drama|Thriller   \n",
       "363                     Horror|Mystery|Thriller   \n",
       "1575  Adventure|Animation|Comedy|Family|Fantasy   \n",
       "\n",
       "                                   production_companies release_date  \\\n",
       "359   Ingenious Film Partners|Twentieth Century Fox ...    4/28/2009   \n",
       "11    Village Roadshow Pictures|Dune Entertainment|A...     2/4/2015   \n",
       "1303                             Scott Free Productions    5/31/2013   \n",
       "363             Summit Entertainment|Karz Entertainment     9/9/2009   \n",
       "1575  DreamWorks SKG|Pacific Data Images (PDI)|Dream...    5/19/2004   \n",
       "\n",
       "      vote_average  release_year  \n",
       "359            6.2          2009  \n",
       "11             5.2          2015  \n",
       "1303           6.3          2013  \n",
       "363            5.3          2009  \n",
       "1575           6.5          2004  "
      ]
     },
     "execution_count": 2,
     "metadata": {},
     "output_type": "execute_result"
    }
   ],
   "source": [
    "movies = pd.read_csv('movie_bd_v5.csv')\n",
    "movies.sample(5)\n"
   ]
  },
  {
   "cell_type": "code",
   "execution_count": 3,
   "metadata": {
    "colab": {},
    "colab_type": "code",
    "id": "CoYUnagMVp-C"
   },
   "outputs": [
    {
     "data": {
      "text/html": [
       "<div>\n",
       "<style scoped>\n",
       "    .dataframe tbody tr th:only-of-type {\n",
       "        vertical-align: middle;\n",
       "    }\n",
       "\n",
       "    .dataframe tbody tr th {\n",
       "        vertical-align: top;\n",
       "    }\n",
       "\n",
       "    .dataframe thead th {\n",
       "        text-align: right;\n",
       "    }\n",
       "</style>\n",
       "<table border=\"1\" class=\"dataframe\">\n",
       "  <thead>\n",
       "    <tr style=\"text-align: right;\">\n",
       "      <th></th>\n",
       "      <th>budget</th>\n",
       "      <th>revenue</th>\n",
       "      <th>runtime</th>\n",
       "      <th>vote_average</th>\n",
       "      <th>release_year</th>\n",
       "    </tr>\n",
       "  </thead>\n",
       "  <tbody>\n",
       "    <tr>\n",
       "      <th>count</th>\n",
       "      <td>1.889000e+03</td>\n",
       "      <td>1.889000e+03</td>\n",
       "      <td>1889.000000</td>\n",
       "      <td>1889.000000</td>\n",
       "      <td>1889.000000</td>\n",
       "    </tr>\n",
       "    <tr>\n",
       "      <th>mean</th>\n",
       "      <td>5.431083e+07</td>\n",
       "      <td>1.553653e+08</td>\n",
       "      <td>109.658549</td>\n",
       "      <td>6.140762</td>\n",
       "      <td>2007.860773</td>\n",
       "    </tr>\n",
       "    <tr>\n",
       "      <th>std</th>\n",
       "      <td>4.858721e+07</td>\n",
       "      <td>2.146698e+08</td>\n",
       "      <td>18.017041</td>\n",
       "      <td>0.764763</td>\n",
       "      <td>4.468841</td>\n",
       "    </tr>\n",
       "    <tr>\n",
       "      <th>min</th>\n",
       "      <td>5.000000e+06</td>\n",
       "      <td>2.033165e+06</td>\n",
       "      <td>63.000000</td>\n",
       "      <td>3.300000</td>\n",
       "      <td>2000.000000</td>\n",
       "    </tr>\n",
       "    <tr>\n",
       "      <th>25%</th>\n",
       "      <td>2.000000e+07</td>\n",
       "      <td>3.456058e+07</td>\n",
       "      <td>97.000000</td>\n",
       "      <td>5.600000</td>\n",
       "      <td>2004.000000</td>\n",
       "    </tr>\n",
       "    <tr>\n",
       "      <th>50%</th>\n",
       "      <td>3.800000e+07</td>\n",
       "      <td>8.361541e+07</td>\n",
       "      <td>107.000000</td>\n",
       "      <td>6.100000</td>\n",
       "      <td>2008.000000</td>\n",
       "    </tr>\n",
       "    <tr>\n",
       "      <th>75%</th>\n",
       "      <td>7.200000e+07</td>\n",
       "      <td>1.782626e+08</td>\n",
       "      <td>120.000000</td>\n",
       "      <td>6.600000</td>\n",
       "      <td>2012.000000</td>\n",
       "    </tr>\n",
       "    <tr>\n",
       "      <th>max</th>\n",
       "      <td>3.800000e+08</td>\n",
       "      <td>2.781506e+09</td>\n",
       "      <td>214.000000</td>\n",
       "      <td>8.100000</td>\n",
       "      <td>2015.000000</td>\n",
       "    </tr>\n",
       "  </tbody>\n",
       "</table>\n",
       "</div>"
      ],
      "text/plain": [
       "             budget       revenue      runtime  vote_average  release_year\n",
       "count  1.889000e+03  1.889000e+03  1889.000000   1889.000000   1889.000000\n",
       "mean   5.431083e+07  1.553653e+08   109.658549      6.140762   2007.860773\n",
       "std    4.858721e+07  2.146698e+08    18.017041      0.764763      4.468841\n",
       "min    5.000000e+06  2.033165e+06    63.000000      3.300000   2000.000000\n",
       "25%    2.000000e+07  3.456058e+07    97.000000      5.600000   2004.000000\n",
       "50%    3.800000e+07  8.361541e+07   107.000000      6.100000   2008.000000\n",
       "75%    7.200000e+07  1.782626e+08   120.000000      6.600000   2012.000000\n",
       "max    3.800000e+08  2.781506e+09   214.000000      8.100000   2015.000000"
      ]
     },
     "execution_count": 3,
     "metadata": {},
     "output_type": "execute_result"
    }
   ],
   "source": [
    "movies.describe()"
   ]
  },
  {
   "cell_type": "code",
   "execution_count": 4,
   "metadata": {},
   "outputs": [
    {
     "name": "stdout",
     "output_type": "stream",
     "text": [
      "<class 'pandas.core.frame.DataFrame'>\n",
      "RangeIndex: 1889 entries, 0 to 1888\n",
      "Data columns (total 14 columns):\n",
      " #   Column                Non-Null Count  Dtype  \n",
      "---  ------                --------------  -----  \n",
      " 0   imdb_id               1889 non-null   object \n",
      " 1   budget                1889 non-null   int64  \n",
      " 2   revenue               1889 non-null   int64  \n",
      " 3   original_title        1889 non-null   object \n",
      " 4   cast                  1889 non-null   object \n",
      " 5   director              1889 non-null   object \n",
      " 6   tagline               1889 non-null   object \n",
      " 7   overview              1889 non-null   object \n",
      " 8   runtime               1889 non-null   int64  \n",
      " 9   genres                1889 non-null   object \n",
      " 10  production_companies  1889 non-null   object \n",
      " 11  release_date          1889 non-null   object \n",
      " 12  vote_average          1889 non-null   float64\n",
      " 13  release_year          1889 non-null   int64  \n",
      "dtypes: float64(1), int64(4), object(9)\n",
      "memory usage: 206.7+ KB\n"
     ]
    }
   ],
   "source": [
    "movies.info()"
   ]
  },
  {
   "cell_type": "markdown",
   "metadata": {
    "colab_type": "text",
    "id": "Nd-G5gX6Vp-M"
   },
   "source": [
    "Использовать варианты ответов в коде решения запрещено.    \n",
    "Вы думаете и в жизни у вас будут варианты ответов?)"
   ]
  },
  {
   "cell_type": "markdown",
   "metadata": {
    "colab_type": "text",
    "id": "DTIt7ezGVp-G"
   },
   "source": [
    "# Предобработка"
   ]
  },
  {
   "cell_type": "code",
   "execution_count": 5,
   "metadata": {
    "colab": {},
    "colab_type": "code",
    "id": "jNb40DwKVp-H"
   },
   "outputs": [
    {
     "data": {
      "text/html": [
       "<div>\n",
       "<style scoped>\n",
       "    .dataframe tbody tr th:only-of-type {\n",
       "        vertical-align: middle;\n",
       "    }\n",
       "\n",
       "    .dataframe tbody tr th {\n",
       "        vertical-align: top;\n",
       "    }\n",
       "\n",
       "    .dataframe thead th {\n",
       "        text-align: right;\n",
       "    }\n",
       "</style>\n",
       "<table border=\"1\" class=\"dataframe\">\n",
       "  <thead>\n",
       "    <tr style=\"text-align: right;\">\n",
       "      <th></th>\n",
       "      <th>imdb_id</th>\n",
       "      <th>budget</th>\n",
       "      <th>revenue</th>\n",
       "      <th>profit</th>\n",
       "      <th>original_title</th>\n",
       "      <th>title_length</th>\n",
       "      <th>cast</th>\n",
       "      <th>director</th>\n",
       "      <th>tagline</th>\n",
       "      <th>overview</th>\n",
       "      <th>overview_length</th>\n",
       "      <th>runtime</th>\n",
       "      <th>genres</th>\n",
       "      <th>production_companies</th>\n",
       "      <th>release_date</th>\n",
       "      <th>vote_average</th>\n",
       "      <th>release_year</th>\n",
       "      <th>release_month</th>\n",
       "    </tr>\n",
       "  </thead>\n",
       "  <tbody>\n",
       "    <tr>\n",
       "      <th>1228</th>\n",
       "      <td>tt1535109</td>\n",
       "      <td>55000000</td>\n",
       "      <td>95000000</td>\n",
       "      <td>40000000</td>\n",
       "      <td>Captain Phillips</td>\n",
       "      <td>16</td>\n",
       "      <td>Tom Hanks|Catherine Keener|Max Martini|Chris M...</td>\n",
       "      <td>Paul Greengrass</td>\n",
       "      <td>Out here survival is everything.</td>\n",
       "      <td>The true story of Captain Richard Phillips and...</td>\n",
       "      <td>32</td>\n",
       "      <td>134</td>\n",
       "      <td>Action|Drama|Thriller</td>\n",
       "      <td>Columbia Pictures</td>\n",
       "      <td>10/10/2013</td>\n",
       "      <td>7.7</td>\n",
       "      <td>2013</td>\n",
       "      <td>10</td>\n",
       "    </tr>\n",
       "    <tr>\n",
       "      <th>111</th>\n",
       "      <td>tt1243974</td>\n",
       "      <td>37000000</td>\n",
       "      <td>26250020</td>\n",
       "      <td>-10749980</td>\n",
       "      <td>Aloha</td>\n",
       "      <td>5</td>\n",
       "      <td>Bradley Cooper|Emma Stone|Rachel McAdams|John ...</td>\n",
       "      <td>Cameron Crowe</td>\n",
       "      <td>Sometimes you have to say goodbye before you c...</td>\n",
       "      <td>A celebrated military contractor returns to th...</td>\n",
       "      <td>31</td>\n",
       "      <td>105</td>\n",
       "      <td>Adventure|Comedy|Romance</td>\n",
       "      <td>Columbia Pictures|Vinyl Films|Regency Enterpri...</td>\n",
       "      <td>5/27/2015</td>\n",
       "      <td>5.2</td>\n",
       "      <td>2015</td>\n",
       "      <td>5</td>\n",
       "    </tr>\n",
       "    <tr>\n",
       "      <th>1772</th>\n",
       "      <td>tt0762114</td>\n",
       "      <td>35000000</td>\n",
       "      <td>69307224</td>\n",
       "      <td>34307224</td>\n",
       "      <td>License to Wed</td>\n",
       "      <td>14</td>\n",
       "      <td>Robin Williams|Mandy Moore|John Krasinski|Eric...</td>\n",
       "      <td>Ken Kwapis</td>\n",
       "      <td>First came love... then came Reverend Frank.</td>\n",
       "      <td>Newly engaged, Ben and Sadie can't wait to sta...</td>\n",
       "      <td>49</td>\n",
       "      <td>91</td>\n",
       "      <td>Comedy</td>\n",
       "      <td>Village Roadshow Pictures|Warner Bros. Picture...</td>\n",
       "      <td>7/4/2007</td>\n",
       "      <td>5.1</td>\n",
       "      <td>2007</td>\n",
       "      <td>7</td>\n",
       "    </tr>\n",
       "    <tr>\n",
       "      <th>637</th>\n",
       "      <td>tt1068680</td>\n",
       "      <td>70000000</td>\n",
       "      <td>225990978</td>\n",
       "      <td>155990978</td>\n",
       "      <td>Yes Man</td>\n",
       "      <td>7</td>\n",
       "      <td>Jim Carrey|Zooey Deschanel|Rhys Darby|Sasha Al...</td>\n",
       "      <td>Peyton Reed</td>\n",
       "      <td>One Word Can Change Everything.</td>\n",
       "      <td>Carl Allen has stumbled across a way to shake ...</td>\n",
       "      <td>24</td>\n",
       "      <td>104</td>\n",
       "      <td>Comedy|Romance</td>\n",
       "      <td>The Zanuck Company|Heyday films|Warner Bros.</td>\n",
       "      <td>12/9/2008</td>\n",
       "      <td>6.3</td>\n",
       "      <td>2008</td>\n",
       "      <td>12</td>\n",
       "    </tr>\n",
       "    <tr>\n",
       "      <th>1404</th>\n",
       "      <td>tt0383222</td>\n",
       "      <td>25000000</td>\n",
       "      <td>2405420</td>\n",
       "      <td>-22594580</td>\n",
       "      <td>BloodRayne</td>\n",
       "      <td>10</td>\n",
       "      <td>Kristanna Loken|Ben Kingsley|Michelle Rodrigue...</td>\n",
       "      <td>Uwe Boll</td>\n",
       "      <td>Revenge never tasted so sweet.</td>\n",
       "      <td>In eighteenth century Romania, Rayne, a dhampi...</td>\n",
       "      <td>52</td>\n",
       "      <td>95</td>\n",
       "      <td>Action|Adventure|Fantasy|Horror</td>\n",
       "      <td>Boll KG</td>\n",
       "      <td>10/22/2005</td>\n",
       "      <td>3.8</td>\n",
       "      <td>2005</td>\n",
       "      <td>10</td>\n",
       "    </tr>\n",
       "  </tbody>\n",
       "</table>\n",
       "</div>"
      ],
      "text/plain": [
       "        imdb_id    budget    revenue     profit    original_title  \\\n",
       "1228  tt1535109  55000000   95000000   40000000  Captain Phillips   \n",
       "111   tt1243974  37000000   26250020  -10749980             Aloha   \n",
       "1772  tt0762114  35000000   69307224   34307224    License to Wed   \n",
       "637   tt1068680  70000000  225990978  155990978           Yes Man   \n",
       "1404  tt0383222  25000000    2405420  -22594580        BloodRayne   \n",
       "\n",
       "      title_length                                               cast  \\\n",
       "1228            16  Tom Hanks|Catherine Keener|Max Martini|Chris M...   \n",
       "111              5  Bradley Cooper|Emma Stone|Rachel McAdams|John ...   \n",
       "1772            14  Robin Williams|Mandy Moore|John Krasinski|Eric...   \n",
       "637              7  Jim Carrey|Zooey Deschanel|Rhys Darby|Sasha Al...   \n",
       "1404            10  Kristanna Loken|Ben Kingsley|Michelle Rodrigue...   \n",
       "\n",
       "             director                                            tagline  \\\n",
       "1228  Paul Greengrass                   Out here survival is everything.   \n",
       "111     Cameron Crowe  Sometimes you have to say goodbye before you c...   \n",
       "1772       Ken Kwapis       First came love... then came Reverend Frank.   \n",
       "637       Peyton Reed                    One Word Can Change Everything.   \n",
       "1404         Uwe Boll                     Revenge never tasted so sweet.   \n",
       "\n",
       "                                               overview  overview_length  \\\n",
       "1228  The true story of Captain Richard Phillips and...               32   \n",
       "111   A celebrated military contractor returns to th...               31   \n",
       "1772  Newly engaged, Ben and Sadie can't wait to sta...               49   \n",
       "637   Carl Allen has stumbled across a way to shake ...               24   \n",
       "1404  In eighteenth century Romania, Rayne, a dhampi...               52   \n",
       "\n",
       "      runtime                           genres  \\\n",
       "1228      134            Action|Drama|Thriller   \n",
       "111       105         Adventure|Comedy|Romance   \n",
       "1772       91                           Comedy   \n",
       "637       104                   Comedy|Romance   \n",
       "1404       95  Action|Adventure|Fantasy|Horror   \n",
       "\n",
       "                                   production_companies release_date  \\\n",
       "1228                                  Columbia Pictures   10/10/2013   \n",
       "111   Columbia Pictures|Vinyl Films|Regency Enterpri...    5/27/2015   \n",
       "1772  Village Roadshow Pictures|Warner Bros. Picture...     7/4/2007   \n",
       "637        The Zanuck Company|Heyday films|Warner Bros.    12/9/2008   \n",
       "1404                                            Boll KG   10/22/2005   \n",
       "\n",
       "      vote_average  release_year release_month  \n",
       "1228           7.7          2013            10  \n",
       "111            5.2          2015             5  \n",
       "1772           5.1          2007             7  \n",
       "637            6.3          2008            12  \n",
       "1404           3.8          2005            10  "
      ]
     },
     "execution_count": 5,
     "metadata": {},
     "output_type": "execute_result"
    }
   ],
   "source": [
    "answers = {} # create a dictionary for answers\n",
    "\n",
    "\n",
    "# To check what films are in Top 1% of the list (question #26),\n",
    "# define list-comparing function:\n",
    "\n",
    "def check_if_in(small_list, big_list):\n",
    "    if [x for x in small_list if x not in big_list] == []:\n",
    "        return True\n",
    "    return False\n",
    "\n",
    "\n",
    "# We'll need profit values for some questions,\n",
    "# add a column where \"revenue minus budget\" \n",
    "# values are stored for every movie.\n",
    "# To be placed right after the \"budget\" column for a better visibility:\n",
    "\n",
    "movies = pd.read_csv('movie_bd_v5.csv')\n",
    "movies.insert(3, 'profit', \n",
    "              movies.apply(lambda x: x.revenue - x.budget, axis=1))\n",
    "\n",
    "\n",
    "# To analyze seasons and months, \n",
    "# also add a column \n",
    "# with numeric values for the month of a movie's release \n",
    "# + dictionary for better visibility:\n",
    "\n",
    "movies['release_month'] = movies.apply(lambda x: x.release_date.split('/')[0], \n",
    "                                       axis=1)\n",
    "\n",
    "month_dict={'1':'Январь',\n",
    "           '2':'Февраль', \n",
    "           '3':'Март',\n",
    "           '4':'Апрель',\n",
    "           '5':'Май',\n",
    "           '6':'Июнь',\n",
    "           '7':'Июль',\n",
    "           '8':'Август',\n",
    "           '9':'Сентябрь',\n",
    "           '10':'Октябрь',\n",
    "           '11':'Ноябрь',\n",
    "           '12':'Декабрь'\n",
    "           }\n",
    "\n",
    "\n",
    "# Title length (in symbols) is studied in question #24:\n",
    "\n",
    "movies.insert(5, 'title_length', \n",
    "              movies.apply(lambda x: len(x.original_title), axis=1))\n",
    "\n",
    "\n",
    "# Overview length (in words) is studied in question #25:\n",
    "\n",
    "movies.insert(10, 'overview_length', \n",
    "              movies.apply(lambda x: len(x.overview.split()), axis=1))\n",
    "\n",
    "\n",
    "movies.sample(5)"
   ]
  },
  {
   "cell_type": "markdown",
   "metadata": {
    "colab_type": "text",
    "id": "YxZaH-nPVp-L"
   },
   "source": [
    "# 1. У какого фильма из списка самый большой бюджет?"
   ]
  },
  {
   "cell_type": "code",
   "execution_count": 6,
   "metadata": {
    "colab": {},
    "colab_type": "code",
    "id": "uVnXAY5RVp-O"
   },
   "outputs": [],
   "source": [
    "# answer\n",
    "answers['1'] = '5. Pirates of the Caribbean: On Stranger Tides (tt1298650)'\n",
    "# +"
   ]
  },
  {
   "cell_type": "code",
   "execution_count": 7,
   "metadata": {
    "colab": {},
    "colab_type": "code",
    "id": "dZwb3m28Vp-S"
   },
   "outputs": [
    {
     "data": {
      "text/html": [
       "<div>\n",
       "<style scoped>\n",
       "    .dataframe tbody tr th:only-of-type {\n",
       "        vertical-align: middle;\n",
       "    }\n",
       "\n",
       "    .dataframe tbody tr th {\n",
       "        vertical-align: top;\n",
       "    }\n",
       "\n",
       "    .dataframe thead th {\n",
       "        text-align: right;\n",
       "    }\n",
       "</style>\n",
       "<table border=\"1\" class=\"dataframe\">\n",
       "  <thead>\n",
       "    <tr style=\"text-align: right;\">\n",
       "      <th></th>\n",
       "      <th>original_title</th>\n",
       "      <th>imdb_id</th>\n",
       "    </tr>\n",
       "  </thead>\n",
       "  <tbody>\n",
       "    <tr>\n",
       "      <th>723</th>\n",
       "      <td>Pirates of the Caribbean: On Stranger Tides</td>\n",
       "      <td>tt1298650</td>\n",
       "    </tr>\n",
       "  </tbody>\n",
       "</table>\n",
       "</div>"
      ],
      "text/plain": [
       "                                  original_title    imdb_id\n",
       "723  Pirates of the Caribbean: On Stranger Tides  tt1298650"
      ]
     },
     "execution_count": 7,
     "metadata": {},
     "output_type": "execute_result"
    }
   ],
   "source": [
    "# solution code\n",
    "movies[movies.budget == movies.budget.max()][['original_title', 'imdb_id']]"
   ]
  },
  {
   "cell_type": "markdown",
   "metadata": {
    "colab_type": "text",
    "id": "FNRbbI3vVp-c"
   },
   "source": [
    "# 2. Какой из фильмов самый длительный (в минутах)?"
   ]
  },
  {
   "cell_type": "code",
   "execution_count": 8,
   "metadata": {
    "colab": {},
    "colab_type": "code",
    "id": "vHAoEXNTVp-d"
   },
   "outputs": [],
   "source": [
    "# answer\n",
    "answers['2'] = '2. Gods and Generals (tt0279111)'\n",
    "# +"
   ]
  },
  {
   "cell_type": "code",
   "execution_count": 9,
   "metadata": {
    "colab": {},
    "colab_type": "code",
    "id": "ot-VX2XrVp-g"
   },
   "outputs": [
    {
     "data": {
      "text/html": [
       "<div>\n",
       "<style scoped>\n",
       "    .dataframe tbody tr th:only-of-type {\n",
       "        vertical-align: middle;\n",
       "    }\n",
       "\n",
       "    .dataframe tbody tr th {\n",
       "        vertical-align: top;\n",
       "    }\n",
       "\n",
       "    .dataframe thead th {\n",
       "        text-align: right;\n",
       "    }\n",
       "</style>\n",
       "<table border=\"1\" class=\"dataframe\">\n",
       "  <thead>\n",
       "    <tr style=\"text-align: right;\">\n",
       "      <th></th>\n",
       "      <th>original_title</th>\n",
       "      <th>imdb_id</th>\n",
       "    </tr>\n",
       "  </thead>\n",
       "  <tbody>\n",
       "    <tr>\n",
       "      <th>1157</th>\n",
       "      <td>Gods and Generals</td>\n",
       "      <td>tt0279111</td>\n",
       "    </tr>\n",
       "  </tbody>\n",
       "</table>\n",
       "</div>"
      ],
      "text/plain": [
       "         original_title    imdb_id\n",
       "1157  Gods and Generals  tt0279111"
      ]
     },
     "execution_count": 9,
     "metadata": {},
     "output_type": "execute_result"
    }
   ],
   "source": [
    "# solution code\n",
    "movies[movies.runtime == movies.runtime.max()][['original_title', \n",
    "                                                'imdb_id']]"
   ]
  },
  {
   "cell_type": "markdown",
   "metadata": {
    "colab_type": "text",
    "id": "bapLlpW8Vp-k"
   },
   "source": [
    "# 3. Какой из фильмов самый короткий (в минутах)?\n",
    "\n",
    "\n",
    "\n"
   ]
  },
  {
   "cell_type": "code",
   "execution_count": 10,
   "metadata": {
    "colab": {},
    "colab_type": "code",
    "id": "YBxaSHuAVp-l"
   },
   "outputs": [],
   "source": [
    "# answer\n",
    "answers['3'] = '3. Winnie the Pooh (tt1449283)'\n",
    "# +"
   ]
  },
  {
   "cell_type": "code",
   "execution_count": 11,
   "metadata": {},
   "outputs": [
    {
     "data": {
      "text/html": [
       "<div>\n",
       "<style scoped>\n",
       "    .dataframe tbody tr th:only-of-type {\n",
       "        vertical-align: middle;\n",
       "    }\n",
       "\n",
       "    .dataframe tbody tr th {\n",
       "        vertical-align: top;\n",
       "    }\n",
       "\n",
       "    .dataframe thead th {\n",
       "        text-align: right;\n",
       "    }\n",
       "</style>\n",
       "<table border=\"1\" class=\"dataframe\">\n",
       "  <thead>\n",
       "    <tr style=\"text-align: right;\">\n",
       "      <th></th>\n",
       "      <th>original_title</th>\n",
       "      <th>imdb_id</th>\n",
       "    </tr>\n",
       "  </thead>\n",
       "  <tbody>\n",
       "    <tr>\n",
       "      <th>768</th>\n",
       "      <td>Winnie the Pooh</td>\n",
       "      <td>tt1449283</td>\n",
       "    </tr>\n",
       "  </tbody>\n",
       "</table>\n",
       "</div>"
      ],
      "text/plain": [
       "      original_title    imdb_id\n",
       "768  Winnie the Pooh  tt1449283"
      ]
     },
     "execution_count": 11,
     "metadata": {},
     "output_type": "execute_result"
    }
   ],
   "source": [
    "# solution code\n",
    "movies[movies.runtime == movies.runtime.min()][['original_title', \n",
    "                                                'imdb_id']]"
   ]
  },
  {
   "cell_type": "markdown",
   "metadata": {
    "colab_type": "text",
    "id": "TfQbxbfNVp-p"
   },
   "source": [
    "# 4. Какова средняя длительность фильмов?\n"
   ]
  },
  {
   "cell_type": "code",
   "execution_count": 12,
   "metadata": {
    "colab": {},
    "colab_type": "code",
    "id": "5K6dKZYVVp-q"
   },
   "outputs": [],
   "source": [
    "# answer\n",
    "answers['4'] = '2. 110'\n",
    "# +"
   ]
  },
  {
   "cell_type": "code",
   "execution_count": 13,
   "metadata": {},
   "outputs": [
    {
     "data": {
      "text/plain": [
       "110"
      ]
     },
     "execution_count": 13,
     "metadata": {},
     "output_type": "execute_result"
    }
   ],
   "source": [
    "# solution code\n",
    "round(movies.runtime.mean())"
   ]
  },
  {
   "cell_type": "markdown",
   "metadata": {
    "colab_type": "text",
    "id": "r5TvbnT_Vp-u"
   },
   "source": [
    "# 5. Каково медианное значение длительности фильмов? "
   ]
  },
  {
   "cell_type": "code",
   "execution_count": 14,
   "metadata": {
    "colab": {},
    "colab_type": "code",
    "id": "iBROplKnVp-v"
   },
   "outputs": [],
   "source": [
    "# ответ\n",
    "answers['5'] = '1. 107'\n",
    "# +"
   ]
  },
  {
   "cell_type": "code",
   "execution_count": 15,
   "metadata": {},
   "outputs": [
    {
     "data": {
      "text/plain": [
       "107"
      ]
     },
     "execution_count": 15,
     "metadata": {},
     "output_type": "execute_result"
    }
   ],
   "source": [
    "# solution code\n",
    "round(movies.runtime.median())"
   ]
  },
  {
   "cell_type": "markdown",
   "metadata": {
    "colab_type": "text",
    "id": "39P-deDSVp-y"
   },
   "source": [
    "# 6. Какой самый прибыльный фильм?\n",
    "#### Внимание! Здесь и далее под «прибылью» или «убытками» понимается разность между сборами и бюджетом фильма. (прибыль = сборы - бюджет) в нашем датасете это будет (profit = revenue - budget) "
   ]
  },
  {
   "cell_type": "code",
   "execution_count": 16,
   "metadata": {
    "colab": {},
    "colab_type": "code",
    "id": "UYZh4T9WVp-y"
   },
   "outputs": [],
   "source": [
    "# answer\n",
    "answers['6'] = '5. Avatar (tt0499549)'\n",
    "# +"
   ]
  },
  {
   "cell_type": "code",
   "execution_count": 17,
   "metadata": {},
   "outputs": [
    {
     "data": {
      "text/html": [
       "<div>\n",
       "<style scoped>\n",
       "    .dataframe tbody tr th:only-of-type {\n",
       "        vertical-align: middle;\n",
       "    }\n",
       "\n",
       "    .dataframe tbody tr th {\n",
       "        vertical-align: top;\n",
       "    }\n",
       "\n",
       "    .dataframe thead th {\n",
       "        text-align: right;\n",
       "    }\n",
       "</style>\n",
       "<table border=\"1\" class=\"dataframe\">\n",
       "  <thead>\n",
       "    <tr style=\"text-align: right;\">\n",
       "      <th></th>\n",
       "      <th>original_title</th>\n",
       "      <th>imdb_id</th>\n",
       "    </tr>\n",
       "  </thead>\n",
       "  <tbody>\n",
       "    <tr>\n",
       "      <th>239</th>\n",
       "      <td>Avatar</td>\n",
       "      <td>tt0499549</td>\n",
       "    </tr>\n",
       "  </tbody>\n",
       "</table>\n",
       "</div>"
      ],
      "text/plain": [
       "    original_title    imdb_id\n",
       "239         Avatar  tt0499549"
      ]
     },
     "execution_count": 17,
     "metadata": {},
     "output_type": "execute_result"
    }
   ],
   "source": [
    "# solution code\n",
    "movies[movies.profit == movies.profit.max()][['original_title', \n",
    "                                              'imdb_id']]"
   ]
  },
  {
   "cell_type": "markdown",
   "metadata": {
    "colab_type": "text",
    "id": "M99JmIX4Vp-2"
   },
   "source": [
    "# 7. Какой фильм самый убыточный? "
   ]
  },
  {
   "cell_type": "code",
   "execution_count": 18,
   "metadata": {
    "colab": {},
    "colab_type": "code",
    "id": "w-D2m4XPVp-3"
   },
   "outputs": [],
   "source": [
    "# answer\n",
    "answers['7'] = '5. The Lone Ranger (tt1210819)'\n",
    "# +"
   ]
  },
  {
   "cell_type": "code",
   "execution_count": 19,
   "metadata": {},
   "outputs": [
    {
     "data": {
      "text/html": [
       "<div>\n",
       "<style scoped>\n",
       "    .dataframe tbody tr th:only-of-type {\n",
       "        vertical-align: middle;\n",
       "    }\n",
       "\n",
       "    .dataframe tbody tr th {\n",
       "        vertical-align: top;\n",
       "    }\n",
       "\n",
       "    .dataframe thead th {\n",
       "        text-align: right;\n",
       "    }\n",
       "</style>\n",
       "<table border=\"1\" class=\"dataframe\">\n",
       "  <thead>\n",
       "    <tr style=\"text-align: right;\">\n",
       "      <th></th>\n",
       "      <th>original_title</th>\n",
       "      <th>imdb_id</th>\n",
       "    </tr>\n",
       "  </thead>\n",
       "  <tbody>\n",
       "    <tr>\n",
       "      <th>1245</th>\n",
       "      <td>The Lone Ranger</td>\n",
       "      <td>tt1210819</td>\n",
       "    </tr>\n",
       "  </tbody>\n",
       "</table>\n",
       "</div>"
      ],
      "text/plain": [
       "       original_title    imdb_id\n",
       "1245  The Lone Ranger  tt1210819"
      ]
     },
     "execution_count": 19,
     "metadata": {},
     "output_type": "execute_result"
    }
   ],
   "source": [
    "# solution code\n",
    "movies[movies.profit == movies.profit.min()][['original_title', \n",
    "                                              'imdb_id']]"
   ]
  },
  {
   "cell_type": "markdown",
   "metadata": {
    "colab_type": "text",
    "id": "wEOM5ERVVp-6"
   },
   "source": [
    "# 8. У скольких фильмов из датасета объем сборов оказался выше бюджета?"
   ]
  },
  {
   "cell_type": "code",
   "execution_count": 20,
   "metadata": {
    "colab": {},
    "colab_type": "code",
    "id": "y00_7HD6Vp-7"
   },
   "outputs": [],
   "source": [
    "# answer\n",
    "answers['8'] = '1. 1478'\n",
    "# +"
   ]
  },
  {
   "cell_type": "code",
   "execution_count": 21,
   "metadata": {},
   "outputs": [
    {
     "data": {
      "text/plain": [
       "1478"
      ]
     },
     "execution_count": 21,
     "metadata": {},
     "output_type": "execute_result"
    }
   ],
   "source": [
    "# solution code\n",
    "movies[movies.profit > 0].imdb_id.count()"
   ]
  },
  {
   "cell_type": "markdown",
   "metadata": {
    "colab_type": "text",
    "id": "xhpspA9KVp_A"
   },
   "source": [
    "# 9. Какой фильм оказался самым кассовым в 2008 году?"
   ]
  },
  {
   "cell_type": "code",
   "execution_count": 22,
   "metadata": {
    "colab": {},
    "colab_type": "code",
    "id": "MoUyQr9RVp_B"
   },
   "outputs": [],
   "source": [
    "# answer\n",
    "answers['9'] = '4. The Dark Knight (tt0468569)'\n",
    "# +"
   ]
  },
  {
   "cell_type": "code",
   "execution_count": 23,
   "metadata": {},
   "outputs": [
    {
     "data": {
      "text/html": [
       "<div>\n",
       "<style scoped>\n",
       "    .dataframe tbody tr th:only-of-type {\n",
       "        vertical-align: middle;\n",
       "    }\n",
       "\n",
       "    .dataframe tbody tr th {\n",
       "        vertical-align: top;\n",
       "    }\n",
       "\n",
       "    .dataframe thead th {\n",
       "        text-align: right;\n",
       "    }\n",
       "</style>\n",
       "<table border=\"1\" class=\"dataframe\">\n",
       "  <thead>\n",
       "    <tr style=\"text-align: right;\">\n",
       "      <th></th>\n",
       "      <th>original_title</th>\n",
       "      <th>imdb_id</th>\n",
       "    </tr>\n",
       "  </thead>\n",
       "  <tbody>\n",
       "    <tr>\n",
       "      <th>599</th>\n",
       "      <td>The Dark Knight</td>\n",
       "      <td>tt0468569</td>\n",
       "    </tr>\n",
       "  </tbody>\n",
       "</table>\n",
       "</div>"
      ],
      "text/plain": [
       "      original_title    imdb_id\n",
       "599  The Dark Knight  tt0468569"
      ]
     },
     "execution_count": 23,
     "metadata": {},
     "output_type": "execute_result"
    }
   ],
   "source": [
    "# solution code\n",
    "movies_2008 = movies[movies.release_year == 2008].copy()\n",
    "movies_2008[movies_2008.revenue == movies_2008.revenue.max()][['original_title', \n",
    "                                                               'imdb_id']]"
   ]
  },
  {
   "cell_type": "markdown",
   "metadata": {
    "colab_type": "text",
    "id": "Zi4hDKidVp_F"
   },
   "source": [
    "# 10. Самый убыточный фильм за период с 2012 по 2014 г. (включительно)?\n"
   ]
  },
  {
   "cell_type": "code",
   "execution_count": 24,
   "metadata": {
    "colab": {},
    "colab_type": "code",
    "id": "XqyRmufJVp_F"
   },
   "outputs": [],
   "source": [
    "# answer\n",
    "answers['10'] = '5. The Lone Ranger (tt1210819)'\n",
    "# +"
   ]
  },
  {
   "cell_type": "code",
   "execution_count": 25,
   "metadata": {},
   "outputs": [
    {
     "data": {
      "text/html": [
       "<div>\n",
       "<style scoped>\n",
       "    .dataframe tbody tr th:only-of-type {\n",
       "        vertical-align: middle;\n",
       "    }\n",
       "\n",
       "    .dataframe tbody tr th {\n",
       "        vertical-align: top;\n",
       "    }\n",
       "\n",
       "    .dataframe thead th {\n",
       "        text-align: right;\n",
       "    }\n",
       "</style>\n",
       "<table border=\"1\" class=\"dataframe\">\n",
       "  <thead>\n",
       "    <tr style=\"text-align: right;\">\n",
       "      <th></th>\n",
       "      <th>original_title</th>\n",
       "      <th>imdb_id</th>\n",
       "    </tr>\n",
       "  </thead>\n",
       "  <tbody>\n",
       "    <tr>\n",
       "      <th>1245</th>\n",
       "      <td>The Lone Ranger</td>\n",
       "      <td>tt1210819</td>\n",
       "    </tr>\n",
       "  </tbody>\n",
       "</table>\n",
       "</div>"
      ],
      "text/plain": [
       "       original_title    imdb_id\n",
       "1245  The Lone Ranger  tt1210819"
      ]
     },
     "execution_count": 25,
     "metadata": {},
     "output_type": "execute_result"
    }
   ],
   "source": [
    "# solution code\n",
    "movies_2012_2014 = movies[(movies.release_year >= 2012) &\n",
    "                         (movies.release_year <= 2014)].copy()\n",
    "movies_2012_2014[movies_2012_2014.profit == movies_2012_2014.profit.min()][['original_title', \n",
    "                                                                            'imdb_id']]"
   ]
  },
  {
   "cell_type": "markdown",
   "metadata": {
    "colab_type": "text",
    "id": "EA7Sa9dkVp_I"
   },
   "source": [
    "# 11. Какого жанра фильмов больше всего?"
   ]
  },
  {
   "cell_type": "code",
   "execution_count": 26,
   "metadata": {
    "colab": {},
    "colab_type": "code",
    "id": "zsJAwJ8QVp_J"
   },
   "outputs": [
    {
     "data": {
      "text/plain": [
       "'Drama'"
      ]
     },
     "execution_count": 26,
     "metadata": {},
     "output_type": "execute_result"
    }
   ],
   "source": [
    "# answer\n",
    "answers['11'] = '3. Drama'\n",
    "# +\n",
    "\n",
    "\n",
    "# solution code\n",
    "pd.Series(movies.genres.str.cat(sep='|').split('|')).value_counts().index[0]"
   ]
  },
  {
   "cell_type": "markdown",
   "metadata": {
    "colab_type": "text",
    "id": "T9_bPWpkVp_Q"
   },
   "source": [
    "# 12. Фильмы какого жанра чаще всего становятся прибыльными? "
   ]
  },
  {
   "cell_type": "code",
   "execution_count": 27,
   "metadata": {
    "colab": {},
    "colab_type": "code",
    "id": "Tmt8MaK1Vp_R"
   },
   "outputs": [
    {
     "data": {
      "text/plain": [
       "'Drama'"
      ]
     },
     "execution_count": 27,
     "metadata": {},
     "output_type": "execute_result"
    }
   ],
   "source": [
    "# answer\n",
    "answers['12'] = '1. Drama'\n",
    "# +\n",
    "\n",
    "\n",
    "# solution code\n",
    "movies_profitable = movies[movies.profit > 0].copy()\n",
    "pd.Series(movies_profitable.genres.str.cat(sep='|').split('|')).value_counts().index[0]"
   ]
  },
  {
   "cell_type": "markdown",
   "metadata": {
    "colab_type": "text",
    "id": "0F23bgsDVp_U"
   },
   "source": [
    "# 13. У какого режиссера самые большие суммарные кассовые сборы?"
   ]
  },
  {
   "cell_type": "code",
   "execution_count": 28,
   "metadata": {
    "colab": {},
    "colab_type": "code",
    "id": "K6Z3J8ygVp_X"
   },
   "outputs": [
    {
     "data": {
      "text/plain": [
       "'Peter Jackson'"
      ]
     },
     "execution_count": 28,
     "metadata": {},
     "output_type": "execute_result"
    }
   ],
   "source": [
    "# answer\n",
    "answers['13'] = '5. Peter Jackson'\n",
    "# +\n",
    "\n",
    "\n",
    "# solution code\n",
    "directors = pd.Series(movies.director.str.cat(sep='|').split('|')).unique()\n",
    "revenue = pd.Series(index = directors, dtype = 'float64')\n",
    "\n",
    "for director in directors:\n",
    "    revenue[director] = movies.revenue[movies.director.map(lambda x: True if director in x else False)].sum()\n",
    "\n",
    "revenue.idxmax()"
   ]
  },
  {
   "cell_type": "markdown",
   "metadata": {
    "colab_type": "text",
    "id": "PsYC9FgRVp_a"
   },
   "source": [
    "# 14. Какой режисер снял больше всего фильмов в стиле Action?"
   ]
  },
  {
   "cell_type": "code",
   "execution_count": 29,
   "metadata": {
    "colab": {},
    "colab_type": "code",
    "id": "wd2M-wHeVp_b"
   },
   "outputs": [
    {
     "data": {
      "text/plain": [
       "'Robert Rodriguez'"
      ]
     },
     "execution_count": 29,
     "metadata": {},
     "output_type": "execute_result"
    }
   ],
   "source": [
    "# answer\n",
    "answers['14'] = '3. Robert Rodriguez'\n",
    "# +\n",
    "\n",
    "\n",
    "# solution code #1\n",
    "actions = movies[movies.genres.str.contains('Action') == True]  \n",
    "action_directors = Counter(actions.director.str.cat(sep='|').split('|'))\n",
    "action_directors.most_common(1)[0][0]"
   ]
  },
  {
   "cell_type": "code",
   "execution_count": 30,
   "metadata": {},
   "outputs": [
    {
     "data": {
      "text/plain": [
       "'Robert Rodriguez'"
      ]
     },
     "metadata": {},
     "output_type": "display_data"
    }
   ],
   "source": [
    "# solution code #2, very ineffective\n",
    "directors = pd.Series(movies.director.str.cat(sep='|').split('|')).unique()\n",
    "action_directors = pd.Series(index = directors, dtype = 'int64')\n",
    "\n",
    "for director in directors:\n",
    "    for movie in movies.index:\n",
    "        if director in movies['director'][movie] and 'Action' in movies['genres'][movie]:\n",
    "            action_directors[director] += 1\n",
    "\n",
    "display(action_directors.idxmax())"
   ]
  },
  {
   "cell_type": "markdown",
   "metadata": {
    "colab_type": "text",
    "id": "PQ0KciD7Vp_f"
   },
   "source": [
    "# 15. Фильмы с каким актером принесли самые высокие кассовые сборы в 2012 году? "
   ]
  },
  {
   "cell_type": "code",
   "execution_count": 31,
   "metadata": {
    "colab": {},
    "colab_type": "code",
    "id": "aga62oeKVp_g"
   },
   "outputs": [
    {
     "data": {
      "text/plain": [
       "'Chris Hemsworth'"
      ]
     },
     "execution_count": 31,
     "metadata": {},
     "output_type": "execute_result"
    }
   ],
   "source": [
    "# answer\n",
    "answers['15'] = '3. Chris Hemsworth'\n",
    "# +\n",
    "\n",
    "\n",
    "# solution code\n",
    "movies_2012 = movies[movies.release_year == 2012].copy()\n",
    "movies_2012['actor'] = movies_2012.cast.str.split('|')\n",
    "movies_2012.explode('actor').groupby(['actor']).sum().revenue.idxmax()"
   ]
  },
  {
   "cell_type": "markdown",
   "metadata": {
    "colab_type": "text",
    "id": "mWHyyL7QVp_j"
   },
   "source": [
    "# 16. Какой актер снялся в большем количестве высокобюджетных фильмов?"
   ]
  },
  {
   "cell_type": "code",
   "execution_count": 32,
   "metadata": {
    "colab": {},
    "colab_type": "code",
    "id": "qQtmHKTFVp_k"
   },
   "outputs": [
    {
     "data": {
      "text/plain": [
       "'Matt Damon'"
      ]
     },
     "execution_count": 32,
     "metadata": {},
     "output_type": "execute_result"
    }
   ],
   "source": [
    "# answer\n",
    "answers['16'] = '3. Matt Damon'\n",
    "# +\n",
    "\n",
    "\n",
    "# solution code\n",
    "a_movies = movies[movies.budget > movies.budget.mean()].copy()\n",
    "a_movies['actor'] = a_movies.cast.str.split('|')\n",
    "a_movies.explode('actor').groupby(['actor']).count().idxmax()[0]"
   ]
  },
  {
   "cell_type": "markdown",
   "metadata": {
    "colab_type": "text",
    "id": "NIh6AaW5Vp_n"
   },
   "source": [
    "# 17. В фильмах какого жанра больше всего снимался Nicolas Cage? "
   ]
  },
  {
   "cell_type": "code",
   "execution_count": 33,
   "metadata": {
    "colab": {},
    "colab_type": "code",
    "id": "H74SJDIBVp_n"
   },
   "outputs": [
    {
     "data": {
      "text/plain": [
       "'Action'"
      ]
     },
     "execution_count": 33,
     "metadata": {},
     "output_type": "execute_result"
    }
   ],
   "source": [
    "# answer\n",
    "answers['17'] = '2. Action'\n",
    "# +\n",
    "\n",
    "\n",
    "# solution code\n",
    "cage_movies = movies[movies.cast.str.contains('Nicolas Cage') == True].copy()\n",
    "pd.Series(cage_movies['genres'].str.cat(sep='|').split('|')).value_counts().index[0]"
   ]
  },
  {
   "cell_type": "markdown",
   "metadata": {
    "colab_type": "text",
    "id": "RqOmPRfWVp_q"
   },
   "source": [
    "# 18. Самый убыточный фильм от Paramount Pictures"
   ]
  },
  {
   "cell_type": "code",
   "execution_count": 34,
   "metadata": {
    "colab": {},
    "colab_type": "code",
    "id": "9E_B0Y96Vp_r"
   },
   "outputs": [
    {
     "data": {
      "text/html": [
       "<div>\n",
       "<style scoped>\n",
       "    .dataframe tbody tr th:only-of-type {\n",
       "        vertical-align: middle;\n",
       "    }\n",
       "\n",
       "    .dataframe tbody tr th {\n",
       "        vertical-align: top;\n",
       "    }\n",
       "\n",
       "    .dataframe thead th {\n",
       "        text-align: right;\n",
       "    }\n",
       "</style>\n",
       "<table border=\"1\" class=\"dataframe\">\n",
       "  <thead>\n",
       "    <tr style=\"text-align: right;\">\n",
       "      <th></th>\n",
       "      <th>original_title</th>\n",
       "      <th>imdb_id</th>\n",
       "    </tr>\n",
       "  </thead>\n",
       "  <tbody>\n",
       "    <tr>\n",
       "      <th>925</th>\n",
       "      <td>K-19: The Widowmaker</td>\n",
       "      <td>tt0267626</td>\n",
       "    </tr>\n",
       "  </tbody>\n",
       "</table>\n",
       "</div>"
      ],
      "text/plain": [
       "           original_title    imdb_id\n",
       "925  K-19: The Widowmaker  tt0267626"
      ]
     },
     "execution_count": 34,
     "metadata": {},
     "output_type": "execute_result"
    }
   ],
   "source": [
    "# answer\n",
    "answers['18'] = '1. K-19: The Widowmaker (tt0267626)'\n",
    "# +\n",
    "\n",
    "\n",
    "# solution code\n",
    "pp_movies = movies[movies.production_companies.str.contains('Paramount Pictures') == True].copy()\n",
    "pp_movies[pp_movies.profit == pp_movies.profit.min()][['original_title', 'imdb_id']]"
   ]
  },
  {
   "cell_type": "markdown",
   "metadata": {
    "colab_type": "text",
    "id": "vS8Ur6ddVp_u"
   },
   "source": [
    "# 19. Какой год стал самым успешным по суммарным кассовым сборам?"
   ]
  },
  {
   "cell_type": "code",
   "execution_count": 35,
   "metadata": {
    "colab": {},
    "colab_type": "code",
    "id": "Dnbt4GdIVp_v"
   },
   "outputs": [
    {
     "data": {
      "text/plain": [
       "2015"
      ]
     },
     "execution_count": 35,
     "metadata": {},
     "output_type": "execute_result"
    }
   ],
   "source": [
    "# answer\n",
    "answers['19'] = '5. 2015'\n",
    "# +\n",
    "\n",
    "\n",
    "# solution code\n",
    "movies.groupby(['release_year']).sum().revenue.idxmax()"
   ]
  },
  {
   "cell_type": "markdown",
   "metadata": {
    "colab_type": "text",
    "id": "JAzJh4QAVp_z"
   },
   "source": [
    "# 20. Какой самый прибыльный год для студии Warner Bros?"
   ]
  },
  {
   "cell_type": "code",
   "execution_count": 36,
   "metadata": {
    "colab": {},
    "colab_type": "code",
    "id": "wgVu02DEVp_0"
   },
   "outputs": [
    {
     "data": {
      "text/plain": [
       "2014"
      ]
     },
     "execution_count": 36,
     "metadata": {},
     "output_type": "execute_result"
    }
   ],
   "source": [
    "# answer\n",
    "answers['20'] = '1. 2014'\n",
    "# +\n",
    "\n",
    "\n",
    "# solution code\n",
    "wb_movies = movies[movies.production_companies.str.contains('Warner Bros') == True]\n",
    "wb_movies.groupby(['release_year']).sum().profit.idxmax()"
   ]
  },
  {
   "cell_type": "markdown",
   "metadata": {
    "colab_type": "text",
    "id": "8Im1S2HRVp_4"
   },
   "source": [
    "# 21. В каком месяце за все годы суммарно вышло больше всего фильмов?"
   ]
  },
  {
   "cell_type": "code",
   "execution_count": 37,
   "metadata": {
    "colab": {},
    "colab_type": "code",
    "id": "lev6TH7gVp_4"
   },
   "outputs": [
    {
     "data": {
      "text/plain": [
       "'Сентябрь'"
      ]
     },
     "execution_count": 37,
     "metadata": {},
     "output_type": "execute_result"
    }
   ],
   "source": [
    "# answer\n",
    "answers['21'] = '4. Сентябрь'\n",
    "# +\n",
    "\n",
    "\n",
    "# solution code\n",
    "max_month = movies.groupby(['release_month']).count().idxmax()[0]\n",
    "month_dict[max_month]"
   ]
  },
  {
   "cell_type": "markdown",
   "metadata": {
    "colab_type": "text",
    "id": "uAJsZ_NeVp_7"
   },
   "source": [
    "# 22. Сколько суммарно вышло фильмов летом? (за июнь, июль, август)"
   ]
  },
  {
   "cell_type": "code",
   "execution_count": 38,
   "metadata": {
    "colab": {},
    "colab_type": "code",
    "id": "Aa-hEREoVp_8"
   },
   "outputs": [
    {
     "data": {
      "text/plain": [
       "450"
      ]
     },
     "execution_count": 38,
     "metadata": {},
     "output_type": "execute_result"
    }
   ],
   "source": [
    "# answer\n",
    "answers['22'] = '2. 450'\n",
    "# +\n",
    "\n",
    "\n",
    "# solution code\n",
    "movies.groupby(['release_month']).imdb_id.count().loc[['6', '7', '8']].sum()"
   ]
  },
  {
   "cell_type": "markdown",
   "metadata": {
    "colab_type": "text",
    "id": "G94ppOY1VqAA"
   },
   "source": [
    "# 23. Для какого режиссера зима – самое продуктивное время года? "
   ]
  },
  {
   "cell_type": "code",
   "execution_count": 39,
   "metadata": {
    "colab": {},
    "colab_type": "code",
    "id": "RhNTsamuVqAB"
   },
   "outputs": [
    {
     "data": {
      "text/plain": [
       "'Peter Jackson'"
      ]
     },
     "execution_count": 39,
     "metadata": {},
     "output_type": "execute_result"
    }
   ],
   "source": [
    "# answer\n",
    "answers['23'] = '5. Peter Jackson'\n",
    "# +\n",
    "\n",
    "\n",
    "# solution code\n",
    "winter_movies = movies[movies.release_month.isin(['12', '1', '2'])]  \n",
    "winter_directors = Counter(winter_movies.director.str.cat(sep='|').split('|'))\n",
    "winter_directors.most_common(1)[0][0]"
   ]
  },
  {
   "cell_type": "markdown",
   "metadata": {
    "colab_type": "text",
    "id": "RBo0JVjVVqAF"
   },
   "source": [
    "# 24. Какая студия дает самые длинные названия своим фильмам по количеству символов?"
   ]
  },
  {
   "cell_type": "code",
   "execution_count": 40,
   "metadata": {
    "colab": {},
    "colab_type": "code",
    "id": "QRGS8L0iVqAG"
   },
   "outputs": [
    {
     "data": {
      "text/plain": [
       "'Four By Two Productions'"
      ]
     },
     "execution_count": 40,
     "metadata": {},
     "output_type": "execute_result"
    }
   ],
   "source": [
    "# answer\n",
    "answers['24'] = '5. Four By Two Productions'\n",
    "# +\n",
    "\n",
    "\n",
    "# solution code\n",
    "movies['company'] = movies.production_companies.str.split('|')\n",
    "movies.explode('company').groupby(['company']).mean().title_length.idxmax()"
   ]
  },
  {
   "cell_type": "markdown",
   "metadata": {
    "colab_type": "text",
    "id": "9G0hbvR7VqAK"
   },
   "source": [
    "# 25. Описание фильмов какой студии в среднем самые длинные по количеству слов?"
   ]
  },
  {
   "cell_type": "code",
   "execution_count": 41,
   "metadata": {
    "colab": {},
    "colab_type": "code",
    "id": "Ge2GsLNxVqAK"
   },
   "outputs": [
    {
     "data": {
      "text/plain": [
       "'Midnight Picture Show'"
      ]
     },
     "execution_count": 41,
     "metadata": {},
     "output_type": "execute_result"
    }
   ],
   "source": [
    "# answer\n",
    "answers['25'] = '3. Midnight Picture Show'\n",
    "# +\n",
    "\n",
    "\n",
    "# solution code\n",
    "movies['company'] = movies.production_companies.str.split('|')\n",
    "movies.explode('company').groupby(['company']).mean().overview_length.idxmax()"
   ]
  },
  {
   "cell_type": "markdown",
   "metadata": {
    "colab_type": "text",
    "id": "FJ1AFt90VqAP"
   },
   "source": [
    "# 26. Какие фильмы входят в 1 процент лучших по рейтингу? \n",
    "по vote_average"
   ]
  },
  {
   "cell_type": "code",
   "execution_count": 42,
   "metadata": {
    "colab": {},
    "colab_type": "code",
    "id": "8qmJVq4CVqAQ"
   },
   "outputs": [
    {
     "data": {
      "text/plain": [
       "True"
      ]
     },
     "metadata": {},
     "output_type": "display_data"
    },
    {
     "data": {
      "text/plain": [
       "False"
      ]
     },
     "metadata": {},
     "output_type": "display_data"
    },
    {
     "data": {
      "text/plain": [
       "False"
      ]
     },
     "metadata": {},
     "output_type": "display_data"
    },
    {
     "data": {
      "text/plain": [
       "False"
      ]
     },
     "metadata": {},
     "output_type": "display_data"
    },
    {
     "data": {
      "text/plain": [
       "False"
      ]
     },
     "metadata": {},
     "output_type": "display_data"
    }
   ],
   "source": [
    "# answer\n",
    "answers['26'] = '1. Inside Out, The Dark Knight, 12 Years a Slave'\n",
    "# +\n",
    "\n",
    "\n",
    "# solution code\n",
    "bm = movies[movies.vote_average > movies.vote_average.quantile(0.99)]['original_title'].values\n",
    "display(check_if_in(\n",
    "    'Inside Out, The Dark Knight, 12 Years a Slave'.split(', '), bm))\n",
    "display(check_if_in(\n",
    "    'BloodRayne, The Adventures of Rocky & Bullwinkle'.split(', '), bm))\n",
    "display(check_if_in(\n",
    "    'Batman Begins, The Lord of the Rings: The Return of the King, Upside Down'.split(', '), bm))\n",
    "display(check_if_in(\n",
    "    '300, Lucky Number Slevin, Kill Bill: Vol. 1'.split(', '), bm))\n",
    "display(check_if_in(\n",
    "    'Upside Down, Inside Out, Iron Man'.split(', '), bm))"
   ]
  },
  {
   "cell_type": "markdown",
   "metadata": {
    "colab_type": "text",
    "id": "MdXsUXbCVqAV"
   },
   "source": [
    "# 27. Какие актеры чаще всего снимаются в одном фильме вместе?\n"
   ]
  },
  {
   "cell_type": "code",
   "execution_count": 43,
   "metadata": {},
   "outputs": [
    {
     "data": {
      "text/plain": [
       "(Daniel Radcliffe, Emma Watson)        8\n",
       "(Daniel Radcliffe, Rupert Grint)       8\n",
       "(Rupert Grint, Emma Watson)            7\n",
       "(Ben Stiller, Owen Wilson)             6\n",
       "(Johnny Depp, Helena Bonham Carter)    6\n",
       "                                      ..\n",
       "(Zooey Deschanel, Jon Heder)           1\n",
       "(Sean Connery, Busta Rhymes)           1\n",
       "(Charlie Sheen, Erica Ash)             1\n",
       "(Jesse Bradford, Eliza Dushku)         1\n",
       "(Leslie Mann, Allison Miller)          1\n",
       "Length: 18121, dtype: int64"
      ]
     },
     "execution_count": 43,
     "metadata": {},
     "output_type": "execute_result"
    }
   ],
   "source": [
    "# answer\n",
    "answers['27'] = '5. Daniel Radcliffe & Rupert Grint'\n",
    "# +\n",
    "\n",
    "\n",
    "# solution code\n",
    "combs = [] \n",
    "for cast in movies.cast.str.split('|'):\n",
    "    combs.extend(combinations(cast, 2))\n",
    "pd.Series(combs).value_counts()\n",
    "\n",
    "#movies.cast.str.split('|')"
   ]
  },
  {
   "cell_type": "markdown",
   "metadata": {
    "colab_type": "text",
    "id": "U0nONFnGVqAX"
   },
   "source": [
    "# Submission"
   ]
  },
  {
   "cell_type": "code",
   "execution_count": 44,
   "metadata": {
    "colab": {},
    "colab_type": "code",
    "id": "IfcaRO9-VqAX",
    "outputId": "0f132912-32bb-4196-c98c-abfbc4ad5a5f"
   },
   "outputs": [
    {
     "data": {
      "text/plain": [
       "{'1': '5. Pirates of the Caribbean: On Stranger Tides (tt1298650)',\n",
       " '2': '2. Gods and Generals (tt0279111)',\n",
       " '3': '3. Winnie the Pooh (tt1449283)',\n",
       " '4': '2. 110',\n",
       " '5': '1. 107',\n",
       " '6': '5. Avatar (tt0499549)',\n",
       " '7': '5. The Lone Ranger (tt1210819)',\n",
       " '8': '1. 1478',\n",
       " '9': '4. The Dark Knight (tt0468569)',\n",
       " '10': '5. The Lone Ranger (tt1210819)',\n",
       " '11': '3. Drama',\n",
       " '12': '1. Drama',\n",
       " '13': '5. Peter Jackson',\n",
       " '14': '3. Robert Rodriguez',\n",
       " '15': '3. Chris Hemsworth',\n",
       " '16': '3. Matt Damon',\n",
       " '17': '2. Action',\n",
       " '18': '1. K-19: The Widowmaker (tt0267626)',\n",
       " '19': '5. 2015',\n",
       " '20': '1. 2014',\n",
       " '21': '4. Сентябрь',\n",
       " '22': '2. 450',\n",
       " '23': '5. Peter Jackson',\n",
       " '24': '5. Four By Two Productions',\n",
       " '25': '3. Midnight Picture Show',\n",
       " '26': '1. Inside Out, The Dark Knight, 12 Years a Slave',\n",
       " '27': '5. Daniel Radcliffe & Rupert Grint'}"
      ]
     },
     "execution_count": 44,
     "metadata": {},
     "output_type": "execute_result"
    }
   ],
   "source": [
    "# в конце можно посмотреть свои ответы к каждому вопросу\n",
    "answers"
   ]
  },
  {
   "cell_type": "code",
   "execution_count": 45,
   "metadata": {
    "colab": {},
    "colab_type": "code",
    "id": "SiRmHPl8VqAd"
   },
   "outputs": [
    {
     "data": {
      "text/plain": [
       "27"
      ]
     },
     "execution_count": 45,
     "metadata": {},
     "output_type": "execute_result"
    }
   ],
   "source": [
    "# и убедиться что ни чего не пропустил)\n",
    "len(answers)"
   ]
  }
 ],
 "metadata": {
  "colab": {
   "name": "Copy of [SF-DST] Movies IMBD v4.1 TEMPLATE.ipynb",
   "provenance": []
  },
  "kernelspec": {
   "display_name": "Python 3",
   "language": "python",
   "name": "python3"
  },
  "language_info": {
   "codemirror_mode": {
    "name": "ipython",
    "version": 3
   },
   "file_extension": ".py",
   "mimetype": "text/x-python",
   "name": "python",
   "nbconvert_exporter": "python",
   "pygments_lexer": "ipython3",
   "version": "3.8.3"
  }
 },
 "nbformat": 4,
 "nbformat_minor": 1
}
